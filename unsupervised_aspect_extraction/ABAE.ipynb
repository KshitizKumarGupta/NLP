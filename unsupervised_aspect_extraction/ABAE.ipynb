{
  "nbformat": 4,
  "nbformat_minor": 0,
  "metadata": {
    "colab": {
      "name": "ABAE.ipynb",
      "provenance": [],
      "collapsed_sections": [],
      "authorship_tag": "ABX9TyMdJWQ/nyEJ6N/tYxZZaxw5",
      "include_colab_link": true
    },
    "kernelspec": {
      "name": "python3",
      "display_name": "Python 3"
    },
    "accelerator": "GPU"
  },
  "cells": [
    {
      "cell_type": "markdown",
      "metadata": {
        "id": "view-in-github",
        "colab_type": "text"
      },
      "source": [
        "<a href=\"https://colab.research.google.com/github/HalitovskyiSerhii/ABAE/blob/master/ABAE.ipynb\" target=\"_parent\"><img src=\"https://colab.research.google.com/assets/colab-badge.svg\" alt=\"Open In Colab\"/></a>"
      ]
    },
    {
      "cell_type": "code",
      "metadata": {
        "id": "_BVSW0qUL1kH",
        "colab_type": "code",
        "colab": {}
      },
      "source": [
        "!pip install torchtext spacy -U"
      ],
      "execution_count": 0,
      "outputs": []
    },
    {
      "cell_type": "code",
      "metadata": {
        "id": "1waFtpnLiLZw",
        "colab_type": "code",
        "colab": {}
      },
      "source": [
        "!wget https://github.com/thedenaas/hse_seminars/raw/master/2018/seminar_13/data.zip\n",
        "!ls"
      ],
      "execution_count": 0,
      "outputs": []
    },
    {
      "cell_type": "code",
      "metadata": {
        "id": "wcm7150ViXFH",
        "colab_type": "code",
        "colab": {}
      },
      "source": [
        "!unzip data.zip -d data "
      ],
      "execution_count": 0,
      "outputs": []
    },
    {
      "cell_type": "code",
      "metadata": {
        "id": "lzMSjeBqoe_8",
        "colab_type": "code",
        "colab": {}
      },
      "source": [
        "import math\n",
        "\n",
        "import nltk\n",
        "import numpy as np\n",
        "import gensim\n",
        "import torch\n",
        "from torch import nn\n",
        "from torch.nn.parameter import Parameter\n",
        "from torch.nn import functional as F\n",
        "from torch.nn import init\n",
        "from torch import optim\n",
        "from torchtext.data import Field, BucketIterator, Dataset, TabularDataset, Iterator\n",
        "\n",
        "import spacy\n",
        "\n",
        "SEED = 42\n",
        "np.random.seed(SEED)\n",
        "torch.manual_seed(SEED)"
      ],
      "execution_count": 0,
      "outputs": []
    },
    {
      "cell_type": "code",
      "metadata": {
        "id": "XtLBToUTjRXe",
        "colab_type": "code",
        "outputId": "dcd01f23-d2f9-4615-d4ec-e2ebed88f9c7",
        "colab": {
          "base_uri": "https://localhost:8080/",
          "height": 71
        }
      },
      "source": [
        "raw_documents = []\n",
        "snippets = []\n",
        "with open( \"data/data.txt\", \"r\") as f:\n",
        "    for line in f.readlines():\n",
        "        text = line\n",
        "        raw_documents.append( text.lower() )\n",
        "        \n",
        "        snippets.append( text[0:min(len(text),100)] )\n",
        "print(\"Read %d raw text documents\" % len(raw_documents))\n",
        "raw_documents[0]"
      ],
      "execution_count": 0,
      "outputs": [
        {
          "output_type": "stream",
          "text": [
            "Read 4551 raw text documents\n"
          ],
          "name": "stdout"
        },
        {
          "output_type": "execute_result",
          "data": {
            "text/plain": [
              "\"barclays' defiance of us fines has merit barclays disgraced itself in many ways during the pre-financial crisis boom years. so it is tempting to think the bank, when asked by us department of justice to pay a large bill for polluting the financial system with mortgage junk between 2005 and 2007, should cough up, apologise and learn some humility. that is not the view of the chief executive, jes staley. barclays thinks the doj’s claims are “disconnected from the facts” and that it has “an obligation to our shareholders, customers, clients and employees to defend ourselves against unreasonable allegations and demands.” the stance is possibly foolhardy, since going into open legal battle with the most powerful us prosecutor is risky, especially if you end up losing. but actually, some grudging respect for staley and barclays is in order. the us system for dishing out fines to errant banks for their mortgage sins has come to resemble a casino. the approach prefers settlements behind closed doors and the difference in size of penalties is never explained. occasional leaks of the negotiating demands make the methodology appear even more arbitrary. deutsche bank was initially asked for $14bn (£11.5bn), but reached a settlement of $7.2bn on thursday. where is the rhyme or reason? there is also a strong suspicion that the roulette wheel is weighted against the europeans. us banks, in the forms of jp morgan, goldman sachs, morgan stanley, bank of america and citi, were at the front of the queue for settlement for no obvious reason. if barclays created and distributed far fewer toxic mortgage securities than its us rivals, which is what the bank argues, why shouldn’t its fine be proportionately smaller? neither barclays nor the doj is talking hard numbers. but barclays, it is said, was asked for $4bn, versus its own analysis that a fair sum would be $1bn and $2bn could have been swallowed for the sake of certainty. when the gap is so wide, barclays is entitled to take its chances in court – and yes, it probably has an obligation to do so. a board can’t let $2bn slip out of the door just for the sake of a quiet life. the case will be messy, inevitably. barclays’ practices were “plainly irresponsible and dishonest,” according to loretta lynch, the us attorney general. there is also a cache of ugly emails and documents. the doj lawsuit says barclays employees called one parcel of securitised loans “craptacular”. another was said to “look like shit”. however, that is almost par for the course in these cases. the central question is the right size of penalty. if barclays thinks it has been singled out for unduly harsh treatment, the bank should try to prove its case. staley will look like a fool if he fails, but the willingness to reject the easy option of settling is entirely legitimate.\\n\""
            ]
          },
          "metadata": {
            "tags": []
          },
          "execution_count": 5
        }
      ]
    },
    {
      "cell_type": "code",
      "metadata": {
        "id": "dHNSlEQATEBY",
        "colab_type": "code",
        "outputId": "ddb11d04-0c25-440a-a491-55d3e1f5a87e",
        "colab": {
          "base_uri": "https://localhost:8080/",
          "height": 34
        }
      },
      "source": [
        "\n",
        "# custom stopwords\n",
        "custom_stop_words = ['<eos>']\n",
        "with open( \"data/stopwords.txt\", \"r\" ) as f:\n",
        "    for line in f.readlines():\n",
        "        custom_stop_words.append( line.strip().lower() )\n",
        "\n",
        "print(\"Stopword list has %d entries\" % len(custom_stop_words) )"
      ],
      "execution_count": 0,
      "outputs": [
        {
          "output_type": "stream",
          "text": [
            "Stopword list has 351 entries\n"
          ],
          "name": "stdout"
        }
      ]
    },
    {
      "cell_type": "code",
      "metadata": {
        "id": "cG7poW8NJHKu",
        "colab_type": "code",
        "colab": {}
      },
      "source": [
        "spacy_en = spacy.load('en')\n",
        "spacy_en.remove_pipe('tagger')\n",
        "spacy_en.remove_pipe('ner')\n",
        "\n",
        "# print([tok.lemma_ for tok in spacy_en.tokenizer(raw_documents[0]) if tok.text.isalpha()])\n",
        "\n",
        "def tokenizer(text): # create a tokenizer function\n",
        "    return [tok.lemma_ for tok in spacy_en.tokenizer(text) \n",
        "    if tok.text.isalpha() and len(tok.lemma_)>1 and tok.lemma_ not in ['\\ufeff1']]"
      ],
      "execution_count": 0,
      "outputs": []
    },
    {
      "cell_type": "code",
      "metadata": {
        "id": "x7gQxLXXHJbe",
        "colab_type": "code",
        "colab": {}
      },
      "source": [
        "TEXT = Field(include_lengths=False, batch_first=True,\n",
        "             tokenize = tokenizer,\n",
        "             eos_token = '<eos>',\n",
        "             lower=True,\n",
        "             stop_words=custom_stop_words#nltk.corpus.stopwords.words('english')\n",
        "            )\n",
        "\n",
        "dataset = TabularDataset('data/data.txt', format='csv', fields=[('text', TEXT)])"
      ],
      "execution_count": 0,
      "outputs": []
    },
    {
      "cell_type": "code",
      "metadata": {
        "id": "Fh5wsimiJcIe",
        "colab_type": "code",
        "outputId": "c0afbd5d-e68a-4e62-eaea-4a2b3bd10766",
        "colab": {
          "base_uri": "https://localhost:8080/",
          "height": 204
        }
      },
      "source": [
        "TEXT.build_vocab(dataset, min_freq=1)\n",
        "terms = TEXT.vocab.itos\n",
        "len(TEXT.vocab.itos), TEXT.vocab.itos[:10]"
      ],
      "execution_count": 0,
      "outputs": [
        {
          "output_type": "execute_result",
          "data": {
            "text/plain": [
              "(11764,\n",
              " ['<unk>',\n",
              "  '<pad>',\n",
              "  '<eos>',\n",
              "  'trump',\n",
              "  'bank',\n",
              "  '-pron-',\n",
              "  'review',\n",
              "  'city',\n",
              "  'donald',\n",
              "  'brexit'])"
            ]
          },
          "metadata": {
            "tags": []
          },
          "execution_count": 29
        }
      ]
    },
    {
      "cell_type": "code",
      "metadata": {
        "id": "xu31gpSpubO3",
        "colab_type": "code",
        "colab": {}
      },
      "source": [
        "batch_size = 32\n",
        "n_neg = 5\n",
        "device = torch.device('cuda' if torch.cuda.is_available() else 'cpu')\n",
        "vocab_size = len(TEXT.vocab.itos)\n",
        "d = 200"
      ],
      "execution_count": 0,
      "outputs": []
    },
    {
      "cell_type": "code",
      "metadata": {
        "id": "Xy-JRtVcum3q",
        "colab_type": "code",
        "colab": {}
      },
      "source": [
        "train_iterator, = BucketIterator.splits(\n",
        "    (dataset,),\n",
        "    batch_sizes=(batch_size,),\n",
        "    shuffle=True, device=device,\n",
        "    sort_key=lambda x: len(x.text),\n",
        "    sort_within_batch=True,\n",
        ")\n",
        "neg_iterator,  = BucketIterator.splits(\n",
        "    (dataset,), batch_sizes=(n_neg,),\n",
        "    shuffle=True, device=device,\n",
        "    sort_key=lambda x: len(x.text),\n",
        "    sort_within_batch=True,\n",
        ")\n",
        "all_iterator,  = BucketIterator.splits(\n",
        "    (dataset,), batch_sizes=(len(dataset),),\n",
        "    device=device,\n",
        "    sort_key=lambda x: len(x.text),\n",
        "    sort_within_batch=True,\n",
        ")\n",
        "one_iterator,  = BucketIterator.splits(\n",
        "    (dataset,), batch_sizes=(1,),\n",
        "    device=device,\n",
        "    sort_within_batch=False,\n",
        ")\n"
      ],
      "execution_count": 0,
      "outputs": []
    },
    {
      "cell_type": "code",
      "metadata": {
        "id": "-PATWM3FtX2u",
        "colab_type": "code",
        "outputId": "7da2c915-8e98-446a-bf10-37ffdf9dd5e5",
        "colab": {
          "base_uri": "https://localhost:8080/",
          "height": 34
        }
      },
      "source": [
        "class IterWrapper():\n",
        "  def __init__(self, bucket_iter):\n",
        "    self.bi=bucket_iter\n",
        "\n",
        "  def __iter__(self):\n",
        "    for x in self.bi:\n",
        "      for doc in x.text:\n",
        "        yield [TEXT.vocab.itos[w] for w in doc]\n",
        "\n",
        "w2v_model = gensim.models.Word2Vec(IterWrapper(one_iterator), size=500, min_count=0, sg=1)\n",
        "print( \"Model has %d terms\" % len(w2v_model.wv.vocab) )"
      ],
      "execution_count": 0,
      "outputs": [
        {
          "output_type": "stream",
          "text": [
            "Model has 11762 terms\n"
          ],
          "name": "stdout"
        }
      ]
    },
    {
      "cell_type": "code",
      "metadata": {
        "id": "8vRhrzJSnDHN",
        "colab_type": "code",
        "colab": {}
      },
      "source": [
        "def usqz(t:torch.Tensor,dim):\n",
        "    return t.unsqueeze(dim)\n",
        "    \n",
        "class Model(nn.Module):\n",
        "\n",
        "\n",
        "  def __init__(self, vocab_size, d, T_size, neg_iterator, l=0.25,*args,**kwargs):\n",
        "    super(Model, self).__init__(*args,**kwargs)\n",
        "    self.neg_iterator = neg_iterator \n",
        "    self.neg_iter = iter(neg_iterator)\n",
        "    self.vocab_size = vocab_size\n",
        "    self.d = d\n",
        "    self.T_size = T_size\n",
        "    self.l=l\n",
        "    self.emb = nn.Embedding(vocab_size, d)\n",
        "    self.M = Parameter(torch.Tensor(d,d))\n",
        "    self.T = Parameter(torch.Tensor(T_size, d))\n",
        "    self.W = Parameter(torch.Tensor(T_size,d))\n",
        "    self.b = Parameter(torch.Tensor(T_size))\n",
        "    self.z = 0 \n",
        "    self.r = 0\n",
        "    self.zero = torch.FloatTensor()\n",
        "    self.one = torch.FloatTensor()\n",
        "\n",
        "    self.reset_parameters()\n",
        "\n",
        "  def reset_parameters(self):\n",
        "      init.kaiming_uniform_(self.M, a=math.sqrt(5))\n",
        "      init.kaiming_uniform_(self.T, a=math.sqrt(5))\n",
        "      init.kaiming_uniform_(self.W, a=math.sqrt(5))\n",
        "      fan_in, _ = init._calculate_fan_in_and_fan_out(self.W)\n",
        "      bound = 1 / math.sqrt(fan_in)\n",
        "      init.uniform_(self.b, -bound, bound)\n",
        "  \n",
        "  @property\n",
        "  def device(self):\n",
        "    return next(self.parameters()).device\n",
        "\n",
        "  def next_neg(self):\n",
        "    try:\n",
        "      return next(self.neg_iter)\n",
        "    except StopIteration:\n",
        "      self.neg_iter = iter(self.neg_iterator)\n",
        "      return next(self.neg_iter)\n",
        "\n",
        "  def calc_loss(self):\n",
        "      x = self.next_neg()\n",
        "      n = self.emb(x.text).mean(dim=1)\n",
        "\n",
        "      r_size, n_size = self.r.shape[0], n.shape[0]\n",
        "      c_size = r_size*n_size\n",
        "      if self.zero.shape != (c_size,c_size):\n",
        "        self.zero = torch.zeros((c_size,c_size),device=self.device)\n",
        "      if self.one.shape != (c_size,c_size):\n",
        "        self.one = torch.ones((c_size,c_size),device=self.device)\n",
        "\n",
        "      J = torch.max(self.zero, \n",
        "                    self.one - self.r.repeat(n.shape[0],1)\n",
        "                    .matmul(self.z.repeat(n.shape[0],1).t())\n",
        "                    + self.r.repeat(n.shape[0],1)\n",
        "                    .matmul(n.repeat(self.r.shape[0],1).t())\n",
        "                    ).sum(axis=1).mean()\n",
        "\n",
        "      U = torch.norm((self.T.t().mm(self.T) - \n",
        "                      self.d*torch.eye(self.d, device=self.device)).mean())\n",
        "      # print(J, U)\n",
        "      L = J + self.l*U\n",
        "      return L\n",
        "\n",
        "  def forward(self,x):\n",
        "    x = x.text\n",
        "    # print(x.shape)\n",
        "    e = self.emb(x)\n",
        "    # print(e.shape)\n",
        "    y_s=usqz(e.mean(axis=1),-1)\n",
        "    # print(y_s.shape)\n",
        "    d = e.matmul(self.M.matmul(y_s))\n",
        "    # print(d.shape)\n",
        "    a = usqz(F.softmax(d.squeeze(-1),dim=1),1)\n",
        "    # print('a', a.shape)\n",
        "    self.z=a.matmul(e).squeeze(-2)\n",
        "    # print('z', self.z.shape)\n",
        "    p = F.softmax(self.z.matmul(self.W.t())+self.b,dim=1).squeeze(-2)\n",
        "    # print('p', p.shape)\n",
        "    self.r = self.T.t().matmul(usqz(p,-1)).squeeze(-1)\n",
        "    # print('r', self.r.shape)\n",
        "    return self.r\n",
        "    \n"
      ],
      "execution_count": 0,
      "outputs": []
    },
    {
      "cell_type": "code",
      "metadata": {
        "id": "x_QyZfUIRPM6",
        "colab_type": "code",
        "colab": {}
      },
      "source": [
        "from IPython import display\n",
        "import sys\n",
        "\n",
        "def train(model, T, epochs=1):\n",
        "  output = \"\\r\"\n",
        "  output += 4*\"#\"+f\"Model with {T} topics\" + 4*\"#\" + \" \"\n",
        "  if model.device!=device:\n",
        "    model.to(device)\n",
        "  opt = optim.Adam(model.parameters())\n",
        "\n",
        "  for epoch in range(1,epochs+1):\n",
        "    o = output + f\"{epoch}/{epochs}: \"\n",
        "    for i, batch in enumerate(train_iterator):\n",
        "      opt.zero_grad()\n",
        "      model(batch)\n",
        "      loss=model.calc_loss()\n",
        "      if i%10 ==0:\n",
        "        # display.clear_output(wait=False)\n",
        "        sys.stdout.write(o+f'loss:{loss.item()}')\n",
        "      loss.backward()\n",
        "      opt.step()\n",
        "  print()\n",
        "  return model\n"
      ],
      "execution_count": 0,
      "outputs": []
    },
    {
      "cell_type": "code",
      "metadata": {
        "id": "FF84rqNxEltW",
        "colab_type": "code",
        "outputId": "0a93fcda-220e-417d-d2a7-f6f8df076f9e",
        "colab": {
          "base_uri": "https://localhost:8080/",
          "height": 34
        }
      },
      "source": [
        "m = train(Model(vocab_size,d, 10, neg_iterator, l=0.2),10,epochs=2)"
      ],
      "execution_count": 0,
      "outputs": [
        {
          "output_type": "stream",
          "text": [
            "####Model with 10 topics#### 2/2: loss:0.19998590648174286\n"
          ],
          "name": "stdout"
        }
      ]
    },
    {
      "cell_type": "code",
      "metadata": {
        "id": "rxQt1vnmDCh_",
        "colab_type": "code",
        "colab": {}
      },
      "source": [
        "# show topic descriptors\n",
        "def get_descriptor( terms, H, topic_index, top ):\n",
        "    top_indices = np.argsort( H[topic_index,:] )[::-1]\n",
        "    top_terms = []\n",
        "    for term_index in top_indices[0:top]:\n",
        "        top_terms.append( terms[term_index] )\n",
        "    return top_terms\n",
        "\n",
        "\n",
        "def get_top_snippets( all_snippets, W, topic_index, top ):\n",
        "    top_indices = np.argsort( W[:,topic_index] )[::-1]\n",
        "    top_snippets = []\n",
        "    for doc_index in top_indices[0:top]:\n",
        "        top_snippets.append( all_snippets[doc_index] )\n",
        "    return top_snippets"
      ],
      "execution_count": 0,
      "outputs": []
    },
    {
      "cell_type": "code",
      "metadata": {
        "id": "H-rp0pGyDOXS",
        "colab_type": "code",
        "outputId": "9fd36971-6c00-477b-94c1-dda37899ec48",
        "colab": {
          "base_uri": "https://localhost:8080/",
          "height": 408
        }
      },
      "source": [
        "with torch.no_grad():\n",
        "  H_rez = m.T.matmul(m.emb.weight.t()).cpu().numpy()\n",
        "\n",
        "  descriptors = []\n",
        "  for topic_index in range(10):\n",
        "      descriptors.append( get_descriptor( terms, H_rez, topic_index, 10 ) )\n",
        "      str_descriptor = \", \".join( descriptors[topic_index] )\n",
        "      print(\"Topic %02d: %s\" % ( topic_index+1, str_descriptor ) )\n",
        "  print('\\n\\n')\n",
        "  W_rez = m.emb(next(iter(all_iterator)).text).matmul(m.T.t()).mean(dim=-2) \\\n",
        "    .cpu().numpy()\n",
        "  topic_snippets = get_top_snippets( snippets, W_rez , 0, 10 )\n",
        "  for i, snippet in enumerate(topic_snippets):\n",
        "      print(\"%02d. %s\" % ( (i+1), snippet ) )"
      ],
      "execution_count": 0,
      "outputs": [
        {
          "output_type": "stream",
          "text": [
            "Topic 01: <eos>, amazing, unescapable, provider, posner, stevenage, damas, primavera, ere, chickenpox\n",
            "Topic 02: <eos>, additional, cartel, carefully, loneliness, diy, zine, saido, gush, france\n",
            "Topic 03: zika, gripe, island, confuse, bookshop, privilege, refusal, ifs, beef, anorexia\n",
            "Topic 04: <eos>, shambolic, shangri, scottish, figure, naysayer, sulk, robin, jackson, albion\n",
            "Topic 05: goings, procedure, clay, greasy, algeria, sic, whoop, intentionally, marvin, imarhan\n",
            "Topic 06: austrian, osborne, ozark, bon, kaepernick, peter, vanguard, promising, chief, sweat\n",
            "Topic 07: <eos>, discriminatory, snarl, atm, philippa, bibio, individualist, float, beloved, diversity\n",
            "Topic 08: zest, <eos>, gun, swift, innovations, previously, dismissal, auguste, pops, unintended\n",
            "Topic 09: <eos>, airline, leftfield, reparations, bumper, provision, starlet, techcrunch, stingy, boogie\n",
            "Topic 10: wreck, grammy, sara, straightforwardly, <eos>, bicker, disappointed, officer, calls, waterloo\n",
            "\n",
            "\n",
            "\n",
            "01. Barclays' defiance of US fines has merit Barclays disgraced itself in many ways during the pre-finan\n",
            "02. How big is Hillary Clinton's lead in the presidential race? It depends on the poll Democratic candid\n",
            "03. Never mind John Lewis – here's the TV advert music it's impossible to forget One of pop’s biggest da\n",
            "04. Ariana Grande's donut-licking cost her a gig at White House, WikiLeaks reveals Licking donuts and sa\n",
            "05. Twitter U-turns over banning white nationalist Twitter has reinstated the account of Richard B Spenc\n",
            "06. Fight for the right: Cruz and Rubio spar in Nevada to be Trump's challenger Ted Cruz and Marco Rubio\n",
            "07. Police search Santander's Madrid HQ in money-laundering inquiry Police have searched the headquarter\n",
            "08. Voting day: America finally goes the polls Candidates sign off on 2016 election campaigns The long, \n",
            "09. Zika’s greatest ally is human intransigence The revenge of the viruses marches on. After bird flu an\n",
            "10. From Afar review – compelling film-making This assured first feature from Venezuelan director Lorenz\n"
          ],
          "name": "stdout"
        }
      ]
    },
    {
      "cell_type": "code",
      "metadata": {
        "id": "lyIJlWEg2juy",
        "colab_type": "code",
        "outputId": "5aed401b-79dd-4e38-f7c0-efba228b9b18",
        "colab": {
          "base_uri": "https://localhost:8080/",
          "height": 85
        }
      },
      "source": [
        "topic_models = []\n",
        "topics_k = [4, 8, 10, 15]\n",
        "for t in [4, 8, 10, 15]:\n",
        "    model = Model(vocab_size,d, t, neg_iterator)\n",
        "    model = train(model,t, epochs=t//4)\n",
        "    with torch.no_grad():\n",
        "      W = model.emb(next(iter(all_iterator)).text).matmul(model.T.t()) \\\n",
        "        .mean(dim=-2).cpu().numpy()\n",
        "      H = model.T.matmul(model.emb.weight.t()).cpu().numpy()\n",
        "    topic_models.append( (t,W,H) )"
      ],
      "execution_count": 0,
      "outputs": [
        {
          "output_type": "stream",
          "text": [
            "####Model with 4 topics#### 1/1: loss:3.5557711124420166\n",
            "####Model with 8 topics#### 2/2: loss:0.24997958540916443\n",
            "####Model with 10 topics#### 2/2: loss:0.24997933208942413\n",
            "####Model with 15 topics#### 3/3: loss:0.2499600052833557\n"
          ],
          "name": "stdout"
        }
      ]
    },
    {
      "cell_type": "code",
      "metadata": {
        "id": "Q95m7mmJT_CR",
        "colab_type": "code",
        "colab": {}
      },
      "source": [
        "# missmatch=[]\n",
        "# for w in TEXT.vocab.itos:\n",
        "#   if w not in vectorizer.vocabulary_:\n",
        "#     missmatch.append(w)\n",
        "# missmatch"
      ],
      "execution_count": 0,
      "outputs": []
    },
    {
      "cell_type": "code",
      "metadata": {
        "id": "sfaIixeNQNtp",
        "colab_type": "code",
        "outputId": "a29aaf17-3682-40b0-d0a5-acef95a34df3",
        "colab": {
          "base_uri": "https://localhost:8080/",
          "height": 207
        }
      },
      "source": [
        "from itertools import combinations\n",
        "\n",
        "\n",
        "def calculate_coherence( w2v_model, term_rankings ):\n",
        "    overall_coherence = 0.0\n",
        "    for topic_index in range(len(term_rankings)):\n",
        "        # check each pair of terms\n",
        "        pair_scores = []\n",
        "        for pair in combinations( term_rankings[topic_index], 2 ):\n",
        "            if pair[0] in w2v_model.wv.vocab and pair[1] in w2v_model.wv.vocab:\n",
        "              pair_scores.append( w2v_model.wv.similarity(pair[0], pair[1]) )\n",
        "        # get the mean for all pairs in this topic\n",
        "        topic_score = sum(pair_scores) / len(pair_scores)\n",
        "        overall_coherence += topic_score\n",
        "    # get the mean score across all topics\n",
        "    return overall_coherence / len(term_rankings)\n",
        "\n",
        "\n",
        "k_values = []\n",
        "coherences = []\n",
        "for (k,W,H) in topic_models:\n",
        "    # Get all of the topic descriptors - the term_rankings, based on top 10 terms\n",
        "    term_rankings = []\n",
        "    print(H.shape)\n",
        "    for topic_index in range(k):\n",
        "        term_rankings.append( get_descriptor( terms, H, topic_index, 10 ) )\n",
        "    # Now calculate the coherence based on our Word2vec model\n",
        "    k_values.append( k )\n",
        "    coherences.append( calculate_coherence( w2v_model, term_rankings ) )\n",
        "    print(\"K=%02d: Coherence=%.4f\" % ( k, coherences[-1] ) )"
      ],
      "execution_count": 0,
      "outputs": [
        {
          "output_type": "stream",
          "text": [
            "(4, 11764)\n",
            "K=04: Coherence=0.9715\n",
            "(8, 11764)\n",
            "K=08: Coherence=0.9721\n",
            "(10, 11764)\n",
            "K=10: Coherence=0.9820\n",
            "(15, 11764)\n",
            "K=15: Coherence=0.9833\n"
          ],
          "name": "stdout"
        },
        {
          "output_type": "stream",
          "text": [
            "/usr/local/lib/python3.6/dist-packages/gensim/matutils.py:737: FutureWarning: Conversion of the second argument of issubdtype from `int` to `np.signedinteger` is deprecated. In future, it will be treated as `np.int64 == np.dtype(int).type`.\n",
            "  if np.issubdtype(vec.dtype, np.int):\n"
          ],
          "name": "stderr"
        }
      ]
    },
    {
      "cell_type": "code",
      "metadata": {
        "id": "gX9Dj3B6Ur6O",
        "colab_type": "code",
        "outputId": "91b8c251-89f1-4885-87b7-53f637986110",
        "colab": {
          "base_uri": "https://localhost:8080/",
          "height": 442
        }
      },
      "source": [
        "import matplotlib.pyplot as plt\n",
        "\n",
        "fig = plt.figure(figsize=(13,7))\n",
        "# create the line plot\n",
        "ax = plt.plot( k_values, coherences )\n",
        "plt.xticks(k_values)\n",
        "plt.xlabel(\"Number of Topics\")\n",
        "plt.ylabel(\"Mean Coherence\")\n",
        "# add the points\n",
        "plt.scatter( k_values, coherences, s=120)\n",
        "# find and annotate the maximum point on the plot\n",
        "ymax = max(coherences)\n",
        "xpos = coherences.index(ymax)\n",
        "best_k = k_values[xpos]\n",
        "plt.annotate( \"k=%d\" % best_k, xy=(best_k, ymax), xytext=(best_k, ymax), textcoords=\"offset points\", fontsize=16)\n",
        "# show the plot\n",
        "plt.show()"
      ],
      "execution_count": 0,
      "outputs": [
        {
          "output_type": "display_data",
          "data": {
            "image/png": "[encoded data removed]",
            "text/plain": [
              "<Figure size 936x504 with 1 Axes>"
            ]
          },
          "metadata": {
            "tags": []
          }
        }
      ]
    },
    {
      "cell_type": "code",
      "metadata": {
        "id": "yMT9tA21stwy",
        "colab_type": "code",
        "colab": {}
      },
      "source": [
        ""
      ],
      "execution_count": 0,
      "outputs": []
    }
  ]
}